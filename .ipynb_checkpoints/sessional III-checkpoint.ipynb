{
 "cells": [
  {
   "cell_type": "code",
   "execution_count": 12,
   "metadata": {},
   "outputs": [],
   "source": [
    "import numpy as np\n",
    "import matplotlib.pyplot as plt\n",
    "d = np.genfromtxt('male100.csv',delimiter=',')"
   ]
  },
  {
   "cell_type": "code",
   "execution_count": 48,
   "metadata": {},
   "outputs": [
    {
     "data": {
      "text/plain": [
       "<matplotlib.collections.PathCollection at 0xa827966160>"
      ]
     },
     "execution_count": 48,
     "metadata": {},
     "output_type": "execute_result"
    }
   ],
   "source": [
    "plt.scatter(d[:,0],d[:,1])\n"
   ]
  },
  {
   "cell_type": "code",
   "execution_count": 28,
   "metadata": {},
   "outputs": [],
   "source": [
    "\n",
    "xybar = np.multiply(d[:,0],d[:,1]).mean()\n",
    "xbyb = np.multiply(d[:,0].mean(),d[:,1].mean())\n",
    "xxbar = np.multiply(d[:,0],d[:,0]).mean()\n",
    "xbxb = np.multiply(d[:,0].mean(),d[:,0].mean())"
   ]
  },
  {
   "cell_type": "code",
   "execution_count": 29,
   "metadata": {},
   "outputs": [
    {
     "data": {
      "text/plain": [
       "-0.013330885710960602"
      ]
     },
     "execution_count": 29,
     "metadata": {},
     "output_type": "execute_result"
    }
   ],
   "source": [
    "w1= ((xybar-xbyb)/(xxbar-xbxb))\n",
    "w1"
   ]
  },
  {
   "cell_type": "code",
   "execution_count": 30,
   "metadata": {
    "collapsed": true
   },
   "outputs": [],
   "source": [
    "w0 = d[:,1].mean() - w1*d[:,0].mean()"
   ]
  },
  {
   "cell_type": "code",
   "execution_count": 31,
   "metadata": {
    "scrolled": true
   },
   "outputs": [
    {
     "data": {
      "text/plain": [
       "36.416455902502861"
      ]
     },
     "execution_count": 31,
     "metadata": {},
     "output_type": "execute_result"
    }
   ],
   "source": [
    "w0"
   ]
  },
  {
   "cell_type": "code",
   "execution_count": 49,
   "metadata": {},
   "outputs": [
    {
     "data": {
      "text/plain": [
       "[<matplotlib.lines.Line2D at 0xa82796e390>]"
      ]
     },
     "execution_count": 49,
     "metadata": {},
     "output_type": "execute_result"
    }
   ],
   "source": [
    "#minAx, maxAx = np.min(d[:, 0]), np.max(d[:, 0])\n",
    "#ax = np.linspace(minAx, maxAx, 10)\n",
    "ax_y = w0 + w1*d[:,0]\n",
    "plt.plot(d[:,0],ax_y)\n",
    "plt.show()"
   ]
  },
  {
   "cell_type": "code",
   "execution_count": 72,
   "metadata": {},
   "outputs": [
    {
     "name": "stdout",
     "output_type": "stream",
     "text": [
      "[[-1.61025838]\n",
      " [-1.49599563]\n",
      " [-1.38173288]\n",
      " [-1.3246015 ]\n",
      " [-1.26747013]\n",
      " [-1.15320738]\n",
      " [-0.92468188]\n",
      " [-0.81041913]\n",
      " [-0.69615638]\n",
      " [-0.58189363]\n",
      " [-0.46763088]\n",
      " [-0.12484263]\n",
      " [-0.01057988]\n",
      " [ 0.10368287]\n",
      " [ 0.21794561]\n",
      " [ 0.33220836]\n",
      " [ 0.44647111]\n",
      " [ 0.56073386]\n",
      " [ 0.67499661]\n",
      " [ 0.78925936]\n",
      " [ 0.90352211]\n",
      " [ 1.01778486]\n",
      " [ 1.13204761]\n",
      " [ 1.24631036]\n",
      " [ 1.36057311]\n",
      " [ 1.47483586]\n",
      " [ 1.58909861]]\n"
     ]
    }
   ],
   "source": [
    "#EXP 2 ------------gradient descent method\n",
    "N = d.shape[0]\n",
    "X = d[:, 0].reshape((N, 1))\n",
    "Y = d[:, 1].reshape((N,1)) \n",
    "meanX = np.mean(X, axis=0) \n",
    "\n",
    "stdX = np.std(X, axis=0) \n",
    "\n",
    "XS = (X - meanX)/stdX\n",
    "print(XS)\n",
    "XB = np.hstack((np.ones((N,1)), XS))"
   ]
  },
  {
   "cell_type": "code",
   "execution_count": 65,
   "metadata": {},
   "outputs": [],
   "source": [
    "degree = 1\n",
    "weights = np.zeros((degree + 1, 1))"
   ]
  },
  {
   "cell_type": "code",
   "execution_count": 77,
   "metadata": {},
   "outputs": [
    {
     "name": "stdout",
     "output_type": "stream",
     "text": [
      "(27, 1)\n"
     ]
    }
   ],
   "source": [
    "gens = 50 \n",
    "buffer = [] \n",
    "alpha = 0.1 \n",
    "for g in np.arange(gens):\n",
    "    predictions = (weights.transpose().dot(XB.transpose())).transpose()\n",
    "    error = np.sum((XB - predictions)**2)/(2*N)"
   ]
  },
  {
   "cell_type": "code",
   "execution_count": 68,
   "metadata": {},
   "outputs": [
    {
     "data": {
      "text/plain": [
       "array([[ 0.],\n",
       "       [ 0.],\n",
       "       [ 0.],\n",
       "       [ 0.],\n",
       "       [ 0.],\n",
       "       [ 0.],\n",
       "       [ 0.],\n",
       "       [ 0.],\n",
       "       [ 0.],\n",
       "       [ 0.],\n",
       "       [ 0.],\n",
       "       [ 0.],\n",
       "       [ 0.],\n",
       "       [ 0.],\n",
       "       [ 0.],\n",
       "       [ 0.],\n",
       "       [ 0.],\n",
       "       [ 0.],\n",
       "       [ 0.],\n",
       "       [ 0.],\n",
       "       [ 0.],\n",
       "       [ 0.],\n",
       "       [ 0.],\n",
       "       [ 0.],\n",
       "       [ 0.],\n",
       "       [ 0.],\n",
       "       [ 0.]])"
      ]
     },
     "execution_count": 68,
     "metadata": {},
     "output_type": "execute_result"
    }
   ],
   "source": [
    "predictions"
   ]
  },
  {
   "cell_type": "code",
   "execution_count": null,
   "metadata": {
    "collapsed": true
   },
   "outputs": [],
   "source": []
  }
 ],
 "metadata": {
  "anaconda-cloud": {},
  "kernelspec": {
   "display_name": "Python 3",
   "language": "python",
   "name": "python3"
  },
  "language_info": {
   "codemirror_mode": {
    "name": "ipython",
    "version": 3
   },
   "file_extension": ".py",
   "mimetype": "text/x-python",
   "name": "python",
   "nbconvert_exporter": "python",
   "pygments_lexer": "ipython3",
   "version": "3.6.5"
  }
 },
 "nbformat": 4,
 "nbformat_minor": 1
}
